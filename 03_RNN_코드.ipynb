{
 "cells": [
  {
   "cell_type": "code",
   "execution_count": 23,
   "metadata": {},
   "outputs": [],
   "source": [
    "# -*- coding: utf-8 -*-\n",
    "# 코드 내부에 한글을 사용가능 하게 해주는 부분입니다.\n",
    "\n",
    "# 로이터 뉴스 데이터셋 불러오기\n",
    "from keras.datasets import reuters\n",
    "from keras.models import Sequential\n",
    "from keras.layers import Dense, LSTM, Embedding\n",
    "from keras.preprocessing import sequence\n",
    "from keras.utils import np_utils\n",
    "\n",
    "import numpy\n",
    "import tensorflow as tf\n",
    "import matplotlib.pyplot as plt"
   ]
  },
  {
   "cell_type": "code",
   "execution_count": 24,
   "metadata": {},
   "outputs": [],
   "source": [
    "# seed 값 설정\n",
    "seed = 0\n",
    "numpy.random.seed(seed)\n",
    "tf.set_random_seed(seed)"
   ]
  },
  {
   "cell_type": "markdown",
   "metadata": {},
   "source": [
    "## 학습셋, 테스트셋으로 나누기"
   ]
  },
  {
   "cell_type": "code",
   "execution_count": 25,
   "metadata": {},
   "outputs": [
    {
     "name": "stdout",
     "output_type": "stream",
     "text": [
      "46 개의 카테고리\n",
      "학습용 뉴스 기사 :  8982\n",
      "테스트용 뉴스 기사 :  2246\n",
      "[ 3  4  3 ... 25  3 25]\n"
     ]
    }
   ],
   "source": [
    "# num_words=1000 : 빈도가 1~1000에 해당하는 단어만 선택해서 불러오기\n",
    "(X_train, Y_train), (X_test, Y_test) = reuters.load_data(num_words=1000, test_split=0.2)\n",
    "\n",
    "# 데이터 확인하기\n",
    "category = numpy.max(Y_train) + 1  # Y_train의 종류\n",
    "print(category, '개의','카테고리')\n",
    "print('학습용 뉴스 기사 : ', len(X_train))\n",
    "print('테스트용 뉴스 기사 : ', len(X_test))\n",
    "\n",
    "# 해당 단어가 몇 번이나 나타나는지 세어 빈도에 따라 번호를 붙임 (3 : 세 번째로 빈도가 높은 단어)\n",
    "# 이 작업을 위해 tokenizer() 함수를 사용하는데, keras에서는 이 작업이 되어있는 데이터를 불러올 수 있음\n",
    "print(Y_train)"
   ]
  },
  {
   "cell_type": "markdown",
   "metadata": {},
   "source": [
    "## 데이터 전처리"
   ]
  },
  {
   "cell_type": "code",
   "execution_count": 26,
   "metadata": {},
   "outputs": [],
   "source": [
    "# 각 기사의 단어 수가 다르므로 단어의 숫자를 맞춰줘야 한다. ==> sequence\n",
    "# maxlen=100 : 단어수는 100개로 맞춘다.(100개보다 적을 경우 0으로 채운다.)\n",
    "x_train = sequence.pad_sequences(X_train, maxlen=100)\n",
    "x_test = sequence.pad_sequences(X_test, maxlen=100)\n",
    "\n",
    "# 원-핫 인코딩\n",
    "y_train = np_utils.to_categorical(Y_train)\n",
    "y_test = np_utils.to_categorical(Y_test)"
   ]
  },
  {
   "cell_type": "markdown",
   "metadata": {},
   "source": [
    "## 모델 설정\n",
    "- Embedding 층 : 데이터 전처리 과정을 통해 입력된 값을 받아 다음 층이 알아들을 수 있는 형태로 변환 하는 역할\n",
    "  - Embedding('불러온 단어의 총 개수','기사당 단어 수')\n",
    "- LSTM(기사당 단어 수, 기타 옵션)"
   ]
  },
  {
   "cell_type": "code",
   "execution_count": 27,
   "metadata": {},
   "outputs": [],
   "source": [
    "model = Sequential()\n",
    "model.add(Embedding(1000, 100))\n",
    "model.add(LSTM(100, activation='tanh'))\n",
    "model.add(Dense(46, activation='softmax'))"
   ]
  },
  {
   "cell_type": "markdown",
   "metadata": {},
   "source": [
    "## 모델의 컴파일"
   ]
  },
  {
   "cell_type": "code",
   "execution_count": 28,
   "metadata": {},
   "outputs": [],
   "source": [
    "model.compile(loss='categorical_crossentropy',\n",
    "            optimizer='adam',\n",
    "            metrics=['accuracy'])"
   ]
  },
  {
   "cell_type": "markdown",
   "metadata": {},
   "source": [
    "## 모델의 실행"
   ]
  },
  {
   "cell_type": "code",
   "execution_count": 29,
   "metadata": {},
   "outputs": [
    {
     "name": "stdout",
     "output_type": "stream",
     "text": [
      "Train on 8982 samples, validate on 2246 samples\n",
      "Epoch 1/20\n",
      "8982/8982 [==============================] - 9s 1ms/step - loss: 2.5544 - accuracy: 0.3671 - val_loss: 2.0782 - val_accuracy: 0.4969\n",
      "Epoch 2/20\n",
      "8982/8982 [==============================] - 9s 964us/step - loss: 1.9821 - accuracy: 0.4909 - val_loss: 1.8593 - val_accuracy: 0.5223\n",
      "Epoch 3/20\n",
      "8982/8982 [==============================] - 9s 958us/step - loss: 1.8102 - accuracy: 0.5284 - val_loss: 1.7664 - val_accuracy: 0.5472\n",
      "Epoch 4/20\n",
      "8982/8982 [==============================] - 9s 963us/step - loss: 1.7000 - accuracy: 0.5609 - val_loss: 1.7116 - val_accuracy: 0.5690\n",
      "Epoch 5/20\n",
      "8982/8982 [==============================] - 9s 955us/step - loss: 1.6453 - accuracy: 0.5668 - val_loss: 1.6641 - val_accuracy: 0.5788\n",
      "Epoch 6/20\n",
      "8982/8982 [==============================] - 9s 1ms/step - loss: 1.5630 - accuracy: 0.5961 - val_loss: 1.6155 - val_accuracy: 0.5850\n",
      "Epoch 7/20\n",
      "8982/8982 [==============================] - 9s 1ms/step - loss: 1.4829 - accuracy: 0.6150 - val_loss: 1.5295 - val_accuracy: 0.6091\n",
      "Epoch 8/20\n",
      "8982/8982 [==============================] - 9s 1ms/step - loss: 1.4387 - accuracy: 0.6250 - val_loss: 1.5198 - val_accuracy: 0.6162\n",
      "Epoch 9/20\n",
      "8982/8982 [==============================] - 9s 1ms/step - loss: 1.3185 - accuracy: 0.6609 - val_loss: 1.4101 - val_accuracy: 0.6416\n",
      "Epoch 10/20\n",
      "8982/8982 [==============================] - 9s 1ms/step - loss: 1.2206 - accuracy: 0.6843 - val_loss: 1.3518 - val_accuracy: 0.6567\n",
      "Epoch 11/20\n",
      "8982/8982 [==============================] - 9s 1ms/step - loss: 1.1492 - accuracy: 0.7029 - val_loss: 1.3413 - val_accuracy: 0.6607\n",
      "Epoch 12/20\n",
      "8982/8982 [==============================] - 9s 1ms/step - loss: 1.0943 - accuracy: 0.7149 - val_loss: 1.2810 - val_accuracy: 0.6830\n",
      "Epoch 13/20\n",
      "8982/8982 [==============================] - 9s 1ms/step - loss: 1.0357 - accuracy: 0.7351 - val_loss: 1.2714 - val_accuracy: 0.6776\n",
      "Epoch 14/20\n",
      "8982/8982 [==============================] - 9s 1ms/step - loss: 1.0015 - accuracy: 0.7459 - val_loss: 1.2437 - val_accuracy: 0.6986\n",
      "Epoch 15/20\n",
      "8982/8982 [==============================] - 9s 1ms/step - loss: 0.9644 - accuracy: 0.7551 - val_loss: 1.2147 - val_accuracy: 0.6955\n",
      "Epoch 16/20\n",
      "8982/8982 [==============================] - 9s 1ms/step - loss: 0.9043 - accuracy: 0.7690 - val_loss: 1.1939 - val_accuracy: 0.7030\n",
      "Epoch 17/20\n",
      "8982/8982 [==============================] - 9s 1ms/step - loss: 0.8654 - accuracy: 0.7799 - val_loss: 1.2196 - val_accuracy: 0.6959\n",
      "Epoch 18/20\n",
      "8982/8982 [==============================] - 9s 1ms/step - loss: 0.8318 - accuracy: 0.7852 - val_loss: 1.2149 - val_accuracy: 0.6981\n",
      "Epoch 19/20\n",
      "8982/8982 [==============================] - 9s 1ms/step - loss: 0.7982 - accuracy: 0.7960 - val_loss: 1.2373 - val_accuracy: 0.6963\n",
      "Epoch 20/20\n",
      "8982/8982 [==============================] - 9s 1ms/step - loss: 0.7768 - accuracy: 0.7988 - val_loss: 1.2606 - val_accuracy: 0.6932\n",
      "2246/2246 [==============================] - 1s 485us/step\n",
      "\n",
      " Test Accuracy: 0.6932\n"
     ]
    }
   ],
   "source": [
    "history = model.fit(x_train, y_train, batch_size=100, epochs=20, validation_data=(x_test, y_test))\n",
    "\n",
    "# 테스트 정확도 출력\n",
    "print(\"\\n Test Accuracy: %.4f\" % (model.evaluate(x_test, y_test)[1]))"
   ]
  },
  {
   "cell_type": "markdown",
   "metadata": {},
   "source": [
    "## 오차, 그래프 그리기"
   ]
  },
  {
   "cell_type": "code",
   "execution_count": 30,
   "metadata": {},
   "outputs": [
    {
     "data": {
      "image/png": "[encoded data removed]",
      "text/plain": [
       "<Figure size 432x288 with 1 Axes>"
      ]
     },
     "metadata": {
      "needs_background": "light"
     },
     "output_type": "display_data"
    }
   ],
   "source": [
    "# 테스트 셋의 오차\n",
    "y_vloss = history.history['val_loss']\n",
    "\n",
    "# 학습셋의 오차\n",
    "y_loss = history.history['loss']\n",
    "\n",
    "# 그래프로 표현\n",
    "x_len = numpy.arange(len(y_loss))\n",
    "plt.plot(x_len, y_vloss, marker='.', c=\"red\", label='Testset_loss')\n",
    "plt.plot(x_len, y_loss, marker='.', c=\"blue\", label='Trainset_loss')\n",
    "\n",
    "# 그래프에 그리드를 주고 레이블을 표시\n",
    "plt.legend(loc='upper right')\n",
    "plt.grid()\n",
    "plt.xlabel('epoch')\n",
    "plt.ylabel('loss')\n",
    "plt.show()"
   ]
  }
 ],
 "metadata": {
  "kernelspec": {
   "display_name": "Python 3",
   "language": "python",
   "name": "python3"
  },
  "language_info": {
   "codemirror_mode": {
    "name": "ipython",
    "version": 3
   },
   "file_extension": ".py",
   "mimetype": "text/x-python",
   "name": "python",
   "nbconvert_exporter": "python",
   "pygments_lexer": "ipython3",
   "version": "3.7.4"
  }
 },
 "nbformat": 4,
 "nbformat_minor": 2
}
